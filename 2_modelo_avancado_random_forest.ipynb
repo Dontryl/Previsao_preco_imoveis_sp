{
 "cells": [
  {
   "cell_type": "code",
   "execution_count": 51,
   "id": "56dd76ea-f565-4a5a-918e-35dd53dcf6d6",
   "metadata": {},
   "outputs": [],
   "source": [
    "# Melhorando o modelo 1 com melhores técnicas e usando algoritmos mais otimizados. \n",
    "import pandas as pd \n",
    "import numpy as np \n",
    "import matplotlib.pyplot as plt\n",
    "import sklearn\n",
    "import seaborn as sns"
   ]
  },
  {
   "cell_type": "code",
   "execution_count": 52,
   "id": "56d8fcd3-765c-43a0-9936-086c3684548c",
   "metadata": {},
   "outputs": [],
   "source": [
    "caminho_arquivo = r\"C:\\Users\\lipin\\OneDrive\\Área de Trabalho\\Projetos de AI\\sao-paulo-properties-april-2019.csv\"\n",
    "df = pd.read_csv(caminho_arquivo)"
   ]
  },
  {
   "cell_type": "code",
   "execution_count": 53,
   "id": "ca266e17-025e-481e-badc-e66bf0f4c29a",
   "metadata": {},
   "outputs": [
    {
     "name": "stdout",
     "output_type": "stream",
     "text": [
      "        Price  Condo  Size  Rooms  Toilets  Suites  Parking  Elevator  \\\n",
      "0         930    220    47      2        2       1        1         0   \n",
      "1        1000    148    45      2        2       1        1         0   \n",
      "2        1000    100    48      2        2       1        1         0   \n",
      "3        1000    200    48      2        2       1        1         0   \n",
      "4        1300    410    55      2        2       1        1         1   \n",
      "...       ...    ...   ...    ...      ...     ...      ...       ...   \n",
      "13635  265000    420    51      2        1       0        1         0   \n",
      "13636  545000    630    74      3        2       1        2         0   \n",
      "13637  515000   1100   114      3        3       1        1         0   \n",
      "13638  345000     48    39      1        2       1        1         0   \n",
      "13639  161987      0    44      2        1       0        1         0   \n",
      "\n",
      "       Furnished  Swimming Pool  New                 District  \\\n",
      "0              0              0    0    Artur Alvim/São Paulo   \n",
      "1              0              0    0    Artur Alvim/São Paulo   \n",
      "2              0              0    0    Artur Alvim/São Paulo   \n",
      "3              0              0    0    Artur Alvim/São Paulo   \n",
      "4              0              0    0    Artur Alvim/São Paulo   \n",
      "...          ...            ...  ...                      ...   \n",
      "13635          0              0    0      Jabaquara/São Paulo   \n",
      "13636          0              1    0      Jabaquara/São Paulo   \n",
      "13637          0              1    0      Jabaquara/São Paulo   \n",
      "13638          1              1    0      Jabaquara/São Paulo   \n",
      "13639          0              0    0  Jardim Ângela/São Paulo   \n",
      "\n",
      "      Negotiation Type Property Type   Latitude  Longitude  \n",
      "0                 rent     apartment -23.543138 -46.479486  \n",
      "1                 rent     apartment -23.550239 -46.480718  \n",
      "2                 rent     apartment -23.542818 -46.485665  \n",
      "3                 rent     apartment -23.547171 -46.483014  \n",
      "4                 rent     apartment -23.525025 -46.482436  \n",
      "...                ...           ...        ...        ...  \n",
      "13635             sale     apartment -23.653004 -46.635463  \n",
      "13636             sale     apartment -23.648930 -46.641982  \n",
      "13637             sale     apartment -23.649693 -46.649783  \n",
      "13638             sale     apartment -23.652060 -46.637046  \n",
      "13639             sale     apartment -23.613391 -46.523109  \n",
      "\n",
      "[13640 rows x 16 columns]\n"
     ]
    }
   ],
   "source": [
    "print(df)"
   ]
  },
  {
   "cell_type": "code",
   "execution_count": 54,
   "id": "dfcdb142-688b-421d-9959-df02b248ffa9",
   "metadata": {},
   "outputs": [
    {
     "name": "stdout",
     "output_type": "stream",
     "text": [
      "<class 'pandas.core.frame.DataFrame'>\n",
      "RangeIndex: 13640 entries, 0 to 13639\n",
      "Data columns (total 16 columns):\n",
      " #   Column            Non-Null Count  Dtype  \n",
      "---  ------            --------------  -----  \n",
      " 0   Price             13640 non-null  int64  \n",
      " 1   Condo             13640 non-null  int64  \n",
      " 2   Size              13640 non-null  int64  \n",
      " 3   Rooms             13640 non-null  int64  \n",
      " 4   Toilets           13640 non-null  int64  \n",
      " 5   Suites            13640 non-null  int64  \n",
      " 6   Parking           13640 non-null  int64  \n",
      " 7   Elevator          13640 non-null  int64  \n",
      " 8   Furnished         13640 non-null  int64  \n",
      " 9   Swimming Pool     13640 non-null  int64  \n",
      " 10  New               13640 non-null  int64  \n",
      " 11  District          13640 non-null  object \n",
      " 12  Negotiation Type  13640 non-null  object \n",
      " 13  Property Type     13640 non-null  object \n",
      " 14  Latitude          13640 non-null  float64\n",
      " 15  Longitude         13640 non-null  float64\n",
      "dtypes: float64(2), int64(11), object(3)\n",
      "memory usage: 1.7+ MB\n"
     ]
    }
   ],
   "source": [
    "df.info()"
   ]
  },
  {
   "cell_type": "code",
   "execution_count": 55,
   "id": "abc8c035-a1f9-4284-9f83-6557183ea973",
   "metadata": {},
   "outputs": [
    {
     "name": "stdout",
     "output_type": "stream",
     "text": [
      "<class 'pandas.core.frame.DataFrame'>\n",
      "RangeIndex: 13640 entries, 0 to 13639\n",
      "Data columns (total 17 columns):\n",
      " #   Column            Non-Null Count  Dtype  \n",
      "---  ------            --------------  -----  \n",
      " 0   Price             13640 non-null  int64  \n",
      " 1   Condo             13640 non-null  int64  \n",
      " 2   Size              13640 non-null  int64  \n",
      " 3   Rooms             13640 non-null  int64  \n",
      " 4   Toilets           13640 non-null  int64  \n",
      " 5   Suites            13640 non-null  int64  \n",
      " 6   Parking           13640 non-null  int64  \n",
      " 7   Elevator          13640 non-null  int64  \n",
      " 8   Furnished         13640 non-null  int64  \n",
      " 9   Swimming Pool     13640 non-null  int64  \n",
      " 10  New               13640 non-null  int64  \n",
      " 11  District          13640 non-null  object \n",
      " 12  Negotiation Type  13640 non-null  object \n",
      " 13  Property Type     13640 non-null  object \n",
      " 14  Latitude          13640 non-null  float64\n",
      " 15  Longitude         13640 non-null  float64\n",
      " 16  Total_de_comodos  13640 non-null  int64  \n",
      "dtypes: float64(2), int64(12), object(3)\n",
      "memory usage: 1.8+ MB\n",
      "None\n"
     ]
    }
   ],
   "source": [
    "# Criando as novas features(colunas) para melhorar o modelo.\n",
    "df[\"Total_de_comodos\"] = df[\"Rooms\"] + df [\"Toilets\"]\n",
    "print(df.info())"
   ]
  },
  {
   "cell_type": "code",
   "execution_count": 56,
   "id": "4af7f702-aff1-4c10-84e7-c9ef2e0c0edc",
   "metadata": {},
   "outputs": [],
   "source": [
    "# Transformando as colunas object em numeros para o modelo poder ler \n",
    "df_encoded = pd.get_dummies(df, columns = [\"District\",\"Negotiation Type\",\"Property Type\"], drop_first=True)"
   ]
  },
  {
   "cell_type": "code",
   "execution_count": 57,
   "id": "03b7a45d-d5dc-4508-91b1-19643eaefe7f",
   "metadata": {},
   "outputs": [
    {
     "name": "stdout",
     "output_type": "stream",
     "text": [
      "Dimenções do dataframe original:(13640, 17)\n",
      "Dimenções do dataframe após o encode:(13640, 110)\n"
     ]
    }
   ],
   "source": [
    "# Ver como ficou o novo DataFrame\n",
    "print(f\"Dimenções do dataframe original:{df.shape}\")\n",
    "print(f\"Dimenções do dataframe após o encode:{df_encoded.shape}\")"
   ]
  },
  {
   "cell_type": "code",
   "execution_count": 58,
   "id": "10178660-8817-4840-bc7f-1c657fa95111",
   "metadata": {},
   "outputs": [
    {
     "name": "stdout",
     "output_type": "stream",
     "text": [
      "   Price  Condo  Size  Rooms  Toilets  Suites  Parking  Elevator  Furnished  \\\n",
      "0    930    220    47      2        2       1        1         0          0   \n",
      "1   1000    148    45      2        2       1        1         0          0   \n",
      "2   1000    100    48      2        2       1        1         0          0   \n",
      "3   1000    200    48      2        2       1        1         0          0   \n",
      "4   1300    410    55      2        2       1        1         1          0   \n",
      "\n",
      "   Swimming Pool  ...  District_Vila Leopoldina/São Paulo  \\\n",
      "0              0  ...                               False   \n",
      "1              0  ...                               False   \n",
      "2              0  ...                               False   \n",
      "3              0  ...                               False   \n",
      "4              0  ...                               False   \n",
      "\n",
      "   District_Vila Madalena/São Paulo  District_Vila Maria/São Paulo  \\\n",
      "0                             False                          False   \n",
      "1                             False                          False   \n",
      "2                             False                          False   \n",
      "3                             False                          False   \n",
      "4                             False                          False   \n",
      "\n",
      "   District_Vila Mariana/São Paulo  District_Vila Matilde/São Paulo  \\\n",
      "0                            False                            False   \n",
      "1                            False                            False   \n",
      "2                            False                            False   \n",
      "3                            False                            False   \n",
      "4                            False                            False   \n",
      "\n",
      "   District_Vila Olimpia/São Paulo  District_Vila Prudente/São Paulo  \\\n",
      "0                            False                             False   \n",
      "1                            False                             False   \n",
      "2                            False                             False   \n",
      "3                            False                             False   \n",
      "4                            False                             False   \n",
      "\n",
      "   District_Vila Sônia/São Paulo  District_Água Rasa/São Paulo  \\\n",
      "0                          False                         False   \n",
      "1                          False                         False   \n",
      "2                          False                         False   \n",
      "3                          False                         False   \n",
      "4                          False                         False   \n",
      "\n",
      "   Negotiation Type_sale  \n",
      "0                  False  \n",
      "1                  False  \n",
      "2                  False  \n",
      "3                  False  \n",
      "4                  False  \n",
      "\n",
      "[5 rows x 110 columns]\n"
     ]
    }
   ],
   "source": [
    "# Olhando as primeiras linhas para ver as novas colunas\n",
    "print(df_encoded.head())"
   ]
  },
  {
   "cell_type": "code",
   "execution_count": 59,
   "id": "a88e60cb-ff7e-4a9d-8547-1f4e99805695",
   "metadata": {},
   "outputs": [
    {
     "name": "stdout",
     "output_type": "stream",
     "text": [
      "<class 'pandas.core.frame.DataFrame'>\n",
      "RangeIndex: 13640 entries, 0 to 13639\n",
      "Columns: 110 entries, Price to Negotiation Type_sale\n",
      "dtypes: bool(96), float64(2), int64(12)\n",
      "memory usage: 2.7 MB\n",
      "None\n"
     ]
    }
   ],
   "source": [
    "# Verificando as informações para confirmar que não há mais colunas 'object'\n",
    "print(df_encoded.info())"
   ]
  },
  {
   "cell_type": "code",
   "execution_count": 60,
   "id": "6bf27dee-c67e-4339-adc7-a6693fdecedc",
   "metadata": {},
   "outputs": [
    {
     "name": "stdout",
     "output_type": "stream",
     "text": [
      "Formato das features (X): (13640, 109)\n",
      "Formato do alvo (y): (13640,)\n"
     ]
    }
   ],
   "source": [
    "# Definindo o 'y', ou seja, a variável que queremos descobrir ou prever. \n",
    "y = df_encoded[\"Price\"]\n",
    "# Se 'y' é \"Price\" então 'X' são todas as outras colunas que servirão de informação para o modelo.\n",
    "# Usamos .drop() para criar um DataFrame com todas as colunas, EXCETO a 'Price'.\n",
    "X = df_encoded.drop(\"Price\", axis=1)\n",
    "print(\"Formato das features (X):\", X.shape)\n",
    "print(\"Formato do alvo (y):\", y.shape)"
   ]
  },
  {
   "cell_type": "code",
   "execution_count": 61,
   "id": "dc77732a-129b-46e5-8d18-b45785e34ce8",
   "metadata": {},
   "outputs": [
    {
     "name": "stdout",
     "output_type": "stream",
     "text": [
      "Tamanho de X para treino: (10912, 109)\n",
      "Tamanho de X para teste: (2728, 109)\n"
     ]
    }
   ],
   "source": [
    "# Separando os modelos de treino em 80/20, ou seja, 80% aprendizado e 20% de teste. \n",
    "# Definindo 'test_size' automaticamente o restante fica para learn\n",
    "X_train, X_test, y_train, y_test = train_test_split(X, y, test_size=0.2, random_state=42)\n",
    "print(\"Tamanho de X para treino:\", X_train.shape)\n",
    "print(\"Tamanho de X para teste:\", X_test.shape)"
   ]
  },
  {
   "cell_type": "code",
   "execution_count": 62,
   "id": "fcccdffe-82ee-4167-a346-6f7b4e97e7a8",
   "metadata": {},
   "outputs": [],
   "source": [
    "from sklearn.ensemble import RandomForestRegressor\n",
    "from sklearn.metrics import r2_score, mean_absolute_error"
   ]
  },
  {
   "cell_type": "code",
   "execution_count": 63,
   "id": "8088f25b-0257-40f5-b256-f08e39b77336",
   "metadata": {},
   "outputs": [],
   "source": [
    "from sklearn.preprocessing import StandardScaler\n",
    "scaler = StandardScaler()\n",
    "X_train = scaler.fit_transform(X_train)\n",
    "X_test = scaler.transform(X_test)"
   ]
  },
  {
   "cell_type": "code",
   "execution_count": 64,
   "id": "a52ef9d8-4ad5-4c93-8d1d-3acfd7bd5f2b",
   "metadata": {},
   "outputs": [
    {
     "name": "stdout",
     "output_type": "stream",
     "text": [
      "Treinando o modelo RandomForest... Isso pode demorar um pouco.\n",
      "Modelo treinado com sucesso!\n"
     ]
    }
   ],
   "source": [
    "# Treinando o modelo com o randomforest\n",
    "modelo_rf = RandomForestRegressor(n_estimators=100, random_state=42, n_jobs=-1)\n",
    "\n",
    "# 2. Treinar o modelo com os dados de treino\n",
    "print(\"Treinando o modelo RandomForest... Isso pode demorar um pouco.\")\n",
    "modelo_rf.fit(X_train, y_train)\n",
    "print(\"Modelo treinado com sucesso!\")\n"
   ]
  },
  {
   "cell_type": "code",
   "execution_count": 65,
   "id": "6bdf2f22-d36d-462e-bb65-1dd6b29779f9",
   "metadata": {},
   "outputs": [
    {
     "name": "stdout",
     "output_type": "stream",
     "text": [
      "\n",
      "--- Resultados do RandomForestRegressor ---\n",
      "R² (Coeficiente de Determinação): 0.93\n",
      "MAE (Erro Médio Absoluto): R$ 44,695.03\n"
     ]
    }
   ],
   "source": [
    "# Modelos de teste randomforest\n",
    "previsoes_rf = modelo_rf.predict(X_test)\n",
    "# Calculando as métricas de avaliação\n",
    "r2_rf = r2_score(y_test, previsoes_rf)\n",
    "mae_rf = mean_absolute_error(y_test, previsoes_rf)\n",
    "\n",
    "print(\"\\n--- Resultados do RandomForestRegressor ---\")\n",
    "print(f\"R² (Coeficiente de Determinação): {r2_rf:.2f}\")\n",
    "print(f\"MAE (Erro Médio Absoluto): R$ {mae_rf:,.2f}\")"
   ]
  },
  {
   "cell_type": "code",
   "execution_count": null,
   "id": "38d80b94-6922-4cfa-a91a-f112a84baf10",
   "metadata": {},
   "outputs": [],
   "source": []
  },
  {
   "cell_type": "code",
   "execution_count": null,
   "id": "2fe11efe-cb8e-4563-bd0c-995943da14df",
   "metadata": {},
   "outputs": [],
   "source": []
  },
  {
   "cell_type": "code",
   "execution_count": null,
   "id": "3fee756b-f13b-4766-8ca8-321c87c8bb0e",
   "metadata": {},
   "outputs": [],
   "source": []
  },
  {
   "cell_type": "code",
   "execution_count": null,
   "id": "70929346-4e25-4961-8d12-a965fe0a4c2a",
   "metadata": {},
   "outputs": [],
   "source": []
  }
 ],
 "metadata": {
  "kernelspec": {
   "display_name": "Python 3 (ipykernel)",
   "language": "python",
   "name": "python3"
  },
  "language_info": {
   "codemirror_mode": {
    "name": "ipython",
    "version": 3
   },
   "file_extension": ".py",
   "mimetype": "text/x-python",
   "name": "python",
   "nbconvert_exporter": "python",
   "pygments_lexer": "ipython3",
   "version": "3.12.4"
  }
 },
 "nbformat": 4,
 "nbformat_minor": 5
}
