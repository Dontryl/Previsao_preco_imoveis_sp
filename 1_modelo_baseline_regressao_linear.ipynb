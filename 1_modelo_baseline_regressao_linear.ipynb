{
 "cells": [
  {
   "cell_type": "code",
   "execution_count": null,
   "id": "5bfdec07-9016-4b86-8de4-f9c56c04e4f2",
   "metadata": {},
   "outputs": [],
   "source": [
    "### Projeto de regressão linear para prever os preços de imóveis "
   ]
  },
  {
   "cell_type": "code",
   "execution_count": 5,
   "id": "a55e1a1e-3aaf-4a55-8b7b-1064a627f390",
   "metadata": {},
   "outputs": [],
   "source": [
    "import pandas as pd \n",
    "import numpy as np\n",
    "import matplotlib.pyplot as plt\n",
    "import sklearn\n",
    "import seaborn as sns"
   ]
  },
  {
   "cell_type": "code",
   "execution_count": null,
   "id": "c386cfaf-a0b6-46f8-adfd-59686b3d984d",
   "metadata": {},
   "outputs": [],
   "source": [
    "### Fórmulas: Y= a.x+b / a = m. Σx.y - Σx . Σy / m. Σx² - (Σx)²\n",
    "### Σ = soma total / m = montante ou quantidade total de linhas "
   ]
  },
  {
   "cell_type": "code",
   "execution_count": 11,
   "id": "7cc20d67-1c63-4a52-9d49-2825884efa5f",
   "metadata": {},
   "outputs": [],
   "source": [
    "caminho_arquivo = \"C:/Users/lipin/OneDrive/Área de Trabalho/Projetos de AI/sao-paulo-properties-april-2019.csv\"\n",
    "df = pd.read_csv(caminho_arquivo)"
   ]
  },
  {
   "cell_type": "code",
   "execution_count": 13,
   "id": "25c7c0dc-3d38-4719-9f0e-8389cc560626",
   "metadata": {},
   "outputs": [
    {
     "name": "stdout",
     "output_type": "stream",
     "text": [
      "        Price  Condo  Size  Rooms  Toilets  Suites  Parking  Elevator  \\\n",
      "0         930    220    47      2        2       1        1         0   \n",
      "1        1000    148    45      2        2       1        1         0   \n",
      "2        1000    100    48      2        2       1        1         0   \n",
      "3        1000    200    48      2        2       1        1         0   \n",
      "4        1300    410    55      2        2       1        1         1   \n",
      "...       ...    ...   ...    ...      ...     ...      ...       ...   \n",
      "13635  265000    420    51      2        1       0        1         0   \n",
      "13636  545000    630    74      3        2       1        2         0   \n",
      "13637  515000   1100   114      3        3       1        1         0   \n",
      "13638  345000     48    39      1        2       1        1         0   \n",
      "13639  161987      0    44      2        1       0        1         0   \n",
      "\n",
      "       Furnished  Swimming Pool  New                 District  \\\n",
      "0              0              0    0    Artur Alvim/São Paulo   \n",
      "1              0              0    0    Artur Alvim/São Paulo   \n",
      "2              0              0    0    Artur Alvim/São Paulo   \n",
      "3              0              0    0    Artur Alvim/São Paulo   \n",
      "4              0              0    0    Artur Alvim/São Paulo   \n",
      "...          ...            ...  ...                      ...   \n",
      "13635          0              0    0      Jabaquara/São Paulo   \n",
      "13636          0              1    0      Jabaquara/São Paulo   \n",
      "13637          0              1    0      Jabaquara/São Paulo   \n",
      "13638          1              1    0      Jabaquara/São Paulo   \n",
      "13639          0              0    0  Jardim Ângela/São Paulo   \n",
      "\n",
      "      Negotiation Type Property Type   Latitude  Longitude  \n",
      "0                 rent     apartment -23.543138 -46.479486  \n",
      "1                 rent     apartment -23.550239 -46.480718  \n",
      "2                 rent     apartment -23.542818 -46.485665  \n",
      "3                 rent     apartment -23.547171 -46.483014  \n",
      "4                 rent     apartment -23.525025 -46.482436  \n",
      "...                ...           ...        ...        ...  \n",
      "13635             sale     apartment -23.653004 -46.635463  \n",
      "13636             sale     apartment -23.648930 -46.641982  \n",
      "13637             sale     apartment -23.649693 -46.649783  \n",
      "13638             sale     apartment -23.652060 -46.637046  \n",
      "13639             sale     apartment -23.613391 -46.523109  \n",
      "\n",
      "[13640 rows x 16 columns]\n"
     ]
    }
   ],
   "source": [
    "print(df)"
   ]
  },
  {
   "cell_type": "code",
   "execution_count": 14,
   "id": "4c58f691-463c-44dd-b9e7-bcb55c794e93",
   "metadata": {},
   "outputs": [
    {
     "name": "stdout",
     "output_type": "stream",
     "text": [
      "<class 'pandas.core.frame.DataFrame'>\n",
      "RangeIndex: 13640 entries, 0 to 13639\n",
      "Data columns (total 16 columns):\n",
      " #   Column            Non-Null Count  Dtype  \n",
      "---  ------            --------------  -----  \n",
      " 0   Price             13640 non-null  int64  \n",
      " 1   Condo             13640 non-null  int64  \n",
      " 2   Size              13640 non-null  int64  \n",
      " 3   Rooms             13640 non-null  int64  \n",
      " 4   Toilets           13640 non-null  int64  \n",
      " 5   Suites            13640 non-null  int64  \n",
      " 6   Parking           13640 non-null  int64  \n",
      " 7   Elevator          13640 non-null  int64  \n",
      " 8   Furnished         13640 non-null  int64  \n",
      " 9   Swimming Pool     13640 non-null  int64  \n",
      " 10  New               13640 non-null  int64  \n",
      " 11  District          13640 non-null  object \n",
      " 12  Negotiation Type  13640 non-null  object \n",
      " 13  Property Type     13640 non-null  object \n",
      " 14  Latitude          13640 non-null  float64\n",
      " 15  Longitude         13640 non-null  float64\n",
      "dtypes: float64(2), int64(11), object(3)\n",
      "memory usage: 1.7+ MB\n",
      "None\n"
     ]
    }
   ],
   "source": [
    "print(df.info())"
   ]
  },
  {
   "cell_type": "code",
   "execution_count": 18,
   "id": "d387653e-85ca-46d1-975c-c1ec51b349c3",
   "metadata": {},
   "outputs": [],
   "source": [
    "# Criar um novo DataFrame com as colunas de texto convertidas\n",
    "# O 'drop_first=True' é importante para evitar um problema estatístico chamado multicollinearidade\n",
    "df_encoded = pd.get_dummies(df, columns = [\"District\",\"Negotiation Type\",\"Property Type\"], drop_first=True)"
   ]
  },
  {
   "cell_type": "code",
   "execution_count": 19,
   "id": "182ae410-6532-46a5-af47-a88520c490f6",
   "metadata": {},
   "outputs": [
    {
     "name": "stdout",
     "output_type": "stream",
     "text": [
      "Dimenções do dataframe original:(13640, 16)\n",
      "Dimenções do dataframe após o encode:(13640, 109)\n"
     ]
    }
   ],
   "source": [
    "# Ver como ficou o novo DataFrame\n",
    "print(f\"Dimenções do dataframe original:{df.shape}\")\n",
    "print(f\"Dimenções do dataframe após o encode:{df_encoded.shape}\")"
   ]
  },
  {
   "cell_type": "code",
   "execution_count": 20,
   "id": "2edce8a6-c212-433e-98fd-732edc022716",
   "metadata": {},
   "outputs": [
    {
     "name": "stdout",
     "output_type": "stream",
     "text": [
      "   Price  Condo  Size  Rooms  Toilets  Suites  Parking  Elevator  Furnished  \\\n",
      "0    930    220    47      2        2       1        1         0          0   \n",
      "1   1000    148    45      2        2       1        1         0          0   \n",
      "2   1000    100    48      2        2       1        1         0          0   \n",
      "3   1000    200    48      2        2       1        1         0          0   \n",
      "4   1300    410    55      2        2       1        1         1          0   \n",
      "\n",
      "   Swimming Pool  ...  District_Vila Leopoldina/São Paulo  \\\n",
      "0              0  ...                               False   \n",
      "1              0  ...                               False   \n",
      "2              0  ...                               False   \n",
      "3              0  ...                               False   \n",
      "4              0  ...                               False   \n",
      "\n",
      "   District_Vila Madalena/São Paulo  District_Vila Maria/São Paulo  \\\n",
      "0                             False                          False   \n",
      "1                             False                          False   \n",
      "2                             False                          False   \n",
      "3                             False                          False   \n",
      "4                             False                          False   \n",
      "\n",
      "   District_Vila Mariana/São Paulo  District_Vila Matilde/São Paulo  \\\n",
      "0                            False                            False   \n",
      "1                            False                            False   \n",
      "2                            False                            False   \n",
      "3                            False                            False   \n",
      "4                            False                            False   \n",
      "\n",
      "   District_Vila Olimpia/São Paulo  District_Vila Prudente/São Paulo  \\\n",
      "0                            False                             False   \n",
      "1                            False                             False   \n",
      "2                            False                             False   \n",
      "3                            False                             False   \n",
      "4                            False                             False   \n",
      "\n",
      "   District_Vila Sônia/São Paulo  District_Água Rasa/São Paulo  \\\n",
      "0                          False                         False   \n",
      "1                          False                         False   \n",
      "2                          False                         False   \n",
      "3                          False                         False   \n",
      "4                          False                         False   \n",
      "\n",
      "   Negotiation Type_sale  \n",
      "0                  False  \n",
      "1                  False  \n",
      "2                  False  \n",
      "3                  False  \n",
      "4                  False  \n",
      "\n",
      "[5 rows x 109 columns]\n"
     ]
    }
   ],
   "source": [
    "# Olhando as primeiras linhas para ver as novas colunas\n",
    "print(df_encoded.head())"
   ]
  },
  {
   "cell_type": "code",
   "execution_count": 21,
   "id": "e82a075e-f94c-4d9d-98b6-be2adf6971e5",
   "metadata": {},
   "outputs": [
    {
     "name": "stdout",
     "output_type": "stream",
     "text": [
      "<class 'pandas.core.frame.DataFrame'>\n",
      "RangeIndex: 13640 entries, 0 to 13639\n",
      "Columns: 109 entries, Price to Negotiation Type_sale\n",
      "dtypes: bool(96), float64(2), int64(11)\n",
      "memory usage: 2.6 MB\n",
      "None\n"
     ]
    }
   ],
   "source": [
    "# Verificando as informações para confirmar que não há mais colunas 'object'\n",
    "print(df_encoded.info())"
   ]
  },
  {
   "cell_type": "code",
   "execution_count": 26,
   "id": "cbc1a645-734f-4d5b-8bea-43363b05b16e",
   "metadata": {},
   "outputs": [
    {
     "name": "stdout",
     "output_type": "stream",
     "text": [
      "Formato das features (X): (13640, 108)\n",
      "Formato do alvo (y): (13640,)\n"
     ]
    }
   ],
   "source": [
    "# Definindo o 'y', ou seja, a variável que queremos descobrir ou prever. \n",
    "y = df_encoded[\"Price\"]\n",
    "# Se 'y' é \"Price\" então 'X' são todas as outras colunas que servirão de informação para o modelo.\n",
    "# Usamos .drop() para criar um DataFrame com todas as colunas, EXCETO a 'Price'.\n",
    "X = df_encoded.drop(\"Price\", axis=1)\n",
    "print(\"Formato das features (X):\", X.shape)\n",
    "print(\"Formato do alvo (y):\", y.shape)"
   ]
  },
  {
   "cell_type": "code",
   "execution_count": 27,
   "id": "97c01ac5-2c7e-4129-bfa1-4f18d370a379",
   "metadata": {},
   "outputs": [
    {
     "name": "stdout",
     "output_type": "stream",
     "text": [
      "Tamanho de X para treino: (10912, 108)\n",
      "Tamanho de X para teste: (2728, 108)\n"
     ]
    }
   ],
   "source": [
    "from sklearn.model_selection import train_test_split\n",
    "\n",
    "# Dividindo os dados: 80% para treino, 20% para teste.\n",
    "# random_state=42 garante que a divisão seja sempre a mesma, para que os resultados sejam reproduzíveis.\n",
    "X_train, X_test, y_train, y_test = train_test_split(X, y, test_size=0.2, random_state=42)\n",
    "                                                    \n",
    "print(\"Tamanho de X para treino:\", X_train.shape)\n",
    "print(\"Tamanho de X para teste:\", X_test.shape)"
   ]
  },
  {
   "cell_type": "code",
   "execution_count": 29,
   "id": "92a30440-1e91-42a0-8fcf-72007617f9cf",
   "metadata": {},
   "outputs": [
    {
     "name": "stdout",
     "output_type": "stream",
     "text": [
      "Modelo treinado com sucesso!\n"
     ]
    }
   ],
   "source": [
    "from sklearn.linear_model import LinearRegression\n",
    "# Criando uma instância do modelo de Regressão Linear\n",
    "modelo = LinearRegression()\n",
    "# Treinando o modelo usando os dados de treino.\n",
    "modelo.fit(X_train, y_train)\n",
    "print(\"Modelo treinado com sucesso!\")"
   ]
  },
  {
   "cell_type": "code",
   "execution_count": 30,
   "id": "f3f15a2a-57a2-484d-aebe-7fea295efcc7",
   "metadata": {},
   "outputs": [
    {
     "name": "stdout",
     "output_type": "stream",
     "text": [
      "Previsões: [ 260614.31433587  584259.41288335 -298472.16866224  345953.96267205\n",
      "  466793.0464124 ]\n",
      "Valores Reais: [  4000 398850   1300 189000 169002]\n"
     ]
    }
   ],
   "source": [
    "# Usamos o modelo treinado para prever os preços do conjunto de teste (X_test)\n",
    "previsoes = modelo.predict(X_test)\n",
    "\n",
    "# Vamos ver as 5 primeiras previsões e os 5 preços reais correspondentes, para poder comparar visualmente o resultado do treinamento. \n",
    "print(\"Previsões:\", previsoes[:5])\n",
    "print(\"Valores Reais:\", y_test.head(5).values)"
   ]
  },
  {
   "cell_type": "code",
   "execution_count": 31,
   "id": "6806ecc4-707b-46ba-99de-705f6572cdff",
   "metadata": {},
   "outputs": [
    {
     "name": "stdout",
     "output_type": "stream",
     "text": [
      "R² (Coeficiente de Determinação): 0.49\n",
      "MAE (Erro Médio Absoluto): R$ 225,015.62\n"
     ]
    }
   ],
   "source": [
    "from sklearn.metrics import r2_score, mean_absolute_error\n",
    "# Calculando o R² \n",
    "r2 = r2_score(y_test, previsoes)\n",
    "# Calculando o MAE ou Mean absulote error( Erro médio absoluto ) \n",
    "mae = mean_absolute_error(y_test, previsoes) \n",
    "print(f\"R² (Coeficiente de Determinação): {r2:.2f}\")\n",
    "print(f\"MAE (Erro Médio Absoluto): R$ {mae:,.2f}\")"
   ]
  },
  {
   "cell_type": "code",
   "execution_count": null,
   "id": "ca0e11f0-8765-4ed5-80b7-834f309f5af8",
   "metadata": {},
   "outputs": [],
   "source": []
  },
  {
   "cell_type": "code",
   "execution_count": null,
   "id": "8c707212-808d-4c85-8250-d72562c7ec18",
   "metadata": {},
   "outputs": [],
   "source": []
  },
  {
   "cell_type": "code",
   "execution_count": null,
   "id": "2bbd094d-fa80-4153-838c-c55763b20d31",
   "metadata": {},
   "outputs": [],
   "source": []
  }
 ],
 "metadata": {
  "kernelspec": {
   "display_name": "Python 3 (ipykernel)",
   "language": "python",
   "name": "python3"
  },
  "language_info": {
   "codemirror_mode": {
    "name": "ipython",
    "version": 3
   },
   "file_extension": ".py",
   "mimetype": "text/x-python",
   "name": "python",
   "nbconvert_exporter": "python",
   "pygments_lexer": "ipython3",
   "version": "3.12.4"
  }
 },
 "nbformat": 4,
 "nbformat_minor": 5
}
